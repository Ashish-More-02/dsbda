{
 "cells": [
  {
   "attachments": {},
   "cell_type": "markdown",
   "metadata": {},
   "source": [
    "data visuliztion-3\n",
    "\n",
    "1) create histogram for each feature in the dataset \n",
    "2) create boxplot for each feature in the dataset"
   ]
  },
  {
   "cell_type": "code",
   "execution_count": null,
   "metadata": {},
   "outputs": [],
   "source": [
    "import numpy as np\n",
    "import seaborn as sns\n",
    "\n",
    "dataset = sns.load_dataset('iris')\n",
    "\n",
    "dataset.head()"
   ]
  },
  {
   "cell_type": "code",
   "execution_count": null,
   "metadata": {},
   "outputs": [],
   "source": [
    "import matplotlib.pyplot as plt\n",
    "\n",
    "fig , axes =plt.subplot(2,2 , figsize=(16,9))\n",
    "\n",
    "sns.histplot(dataset['sepal_length'], ax=axes[0,0] )\n",
    "sns.histplot(dataset['sepal_width'], ax=axes[0,1] )\n",
    "sns.histplot(dataset['petal_length'], ax=axes[1,0] )\n",
    "sns.histplot(dataset['petal_width'], ax=axes[1,1] )\n",
    "\n"
   ]
  },
  {
   "cell_type": "code",
   "execution_count": null,
   "metadata": {},
   "outputs": [],
   "source": [
    "import matplotlib.pyplot as plt \n",
    "\n",
    "fig , axes = plt.subplot(2,2 , figsize =(16,9))\n",
    "\n",
    "sns.boxplot(y='sepal_length' , x='specis' , data='dataset' , ax=axes[0,0] )\n",
    "sns.boxplot(y='sepal_width' , x='specis' , data='dataset' , ax=axes[0,1] )\n",
    "sns.boxplot(y='petal_length' , x='specis' , data='dataset' , ax=axes[1,0] )\n",
    "sns.boxplot(y='petal_width' , x='specis' , data='dataset' , ax=axes[1,1] )"
   ]
  }
 ],
 "metadata": {
  "kernelspec": {
   "display_name": "Python 3",
   "language": "python",
   "name": "python3"
  },
  "language_info": {
   "codemirror_mode": {
    "name": "ipython",
    "version": 3
   },
   "file_extension": ".py",
   "mimetype": "text/x-python",
   "name": "python",
   "nbconvert_exporter": "python",
   "pygments_lexer": "ipython3",
   "version": "3.11.3"
  },
  "orig_nbformat": 4
 },
 "nbformat": 4,
 "nbformat_minor": 2
}
