{
 "cells": [
  {
   "attachments": {},
   "cell_type": "markdown",
   "metadata": {},
   "source": [
    "data analytics-1 \n",
    "\n",
    "we have to perform linear regression on the boston housing dataset , \n",
    "\n",
    "* correlation = correlation refers to the statistical measure that detemines the linear relationship between two variables . it shows the degree to which two variables are correlated . \n",
    "if we change one variable then the another variable will also be affected .\n",
    "\n",
    "* correlation coefficient is a statistical measure which determines , how strongly the pair of variables are correlated or connected . it is denoted by \"r\" and it ranges from -1 to +1\n",
    "\n",
    "\n",
    "* Regression implies the statistical tool used to identify the nature of relationship existing between a dependent variable and a set of independent variables . \n",
    "\n",
    "types of linear regression \n",
    "1) positive linear regression \n",
    "2) negetive linear regression "
   ]
  },
  {
   "cell_type": "code",
   "execution_count": null,
   "metadata": {},
   "outputs": [],
   "source": []
  }
 ],
 "metadata": {
  "language_info": {
   "name": "python"
  },
  "orig_nbformat": 4
 },
 "nbformat": 4,
 "nbformat_minor": 2
}
